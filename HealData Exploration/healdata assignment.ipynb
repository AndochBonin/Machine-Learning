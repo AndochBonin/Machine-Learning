{
 "cells": [
  {
   "cell_type": "code",
   "execution_count": 6,
   "id": "fdab09c3",
   "metadata": {},
   "outputs": [],
   "source": [
    "from matplotlib import pyplot as plot"
   ]
  },
  {
   "cell_type": "code",
   "execution_count": 7,
   "id": "04cc048c",
   "metadata": {},
   "outputs": [],
   "source": [
    "import numpy as np"
   ]
  },
  {
   "cell_type": "code",
   "execution_count": 8,
   "id": "b242066c",
   "metadata": {},
   "outputs": [],
   "source": [
    "import pandas as pd"
   ]
  },
  {
   "cell_type": "code",
   "execution_count": 15,
   "id": "1f3d76f8",
   "metadata": {},
   "outputs": [],
   "source": [
    "document = pd.read_csv(r'C:\\Users\\bonin\\Downloads\\healdata2.csv')"
   ]
  },
  {
   "cell_type": "code",
   "execution_count": 19,
   "id": "a554253d",
   "metadata": {},
   "outputs": [],
   "source": [
    "average_age = np.mean(document.age)"
   ]
  },
  {
   "cell_type": "code",
   "execution_count": 20,
   "id": "6f1343e1",
   "metadata": {},
   "outputs": [
    {
     "name": "stdout",
     "output_type": "stream",
     "text": [
      "42.51428571428571\n"
     ]
    }
   ],
   "source": [
    "print(average_age)"
   ]
  },
  {
   "cell_type": "code",
   "execution_count": 21,
   "id": "2a7bd62b",
   "metadata": {},
   "outputs": [],
   "source": [
    "df = pd.DataFrame(document)"
   ]
  },
  {
   "cell_type": "code",
   "execution_count": 23,
   "id": "870696ef",
   "metadata": {},
   "outputs": [
    {
     "data": {
      "text/html": [
       "<div>\n",
       "<style scoped>\n",
       "    .dataframe tbody tr th:only-of-type {\n",
       "        vertical-align: middle;\n",
       "    }\n",
       "\n",
       "    .dataframe tbody tr th {\n",
       "        vertical-align: top;\n",
       "    }\n",
       "\n",
       "    .dataframe thead th {\n",
       "        text-align: right;\n",
       "    }\n",
       "</style>\n",
       "<table border=\"1\" class=\"dataframe\">\n",
       "  <thead>\n",
       "    <tr style=\"text-align: right;\">\n",
       "      <th></th>\n",
       "      <th>age</th>\n",
       "      <th>gender</th>\n",
       "      <th>bmi</th>\n",
       "      <th>smoker</th>\n",
       "      <th>region</th>\n",
       "      <th>exercise</th>\n",
       "      <th>alcohol</th>\n",
       "      <th>cholesterol</th>\n",
       "      <th>systolic_bp</th>\n",
       "      <th>diastolic_bp</th>\n",
       "    </tr>\n",
       "  </thead>\n",
       "  <tbody>\n",
       "    <tr>\n",
       "      <th>0</th>\n",
       "      <td>49</td>\n",
       "      <td>Male</td>\n",
       "      <td>28.7</td>\n",
       "      <td>Yes</td>\n",
       "      <td>Regular</td>\n",
       "      <td>High</td>\n",
       "      <td>Very High</td>\n",
       "      <td>135/85</td>\n",
       "      <td>92</td>\n",
       "      <td>71</td>\n",
       "    </tr>\n",
       "    <tr>\n",
       "      <th>1</th>\n",
       "      <td>67</td>\n",
       "      <td>Female</td>\n",
       "      <td>26.8</td>\n",
       "      <td>No</td>\n",
       "      <td>Occasional</td>\n",
       "      <td>Moderate</td>\n",
       "      <td>High</td>\n",
       "      <td>140/90</td>\n",
       "      <td>110</td>\n",
       "      <td>60</td>\n",
       "    </tr>\n",
       "    <tr>\n",
       "      <th>2</th>\n",
       "      <td>41</td>\n",
       "      <td>Male</td>\n",
       "      <td>24.9</td>\n",
       "      <td>No</td>\n",
       "      <td>Occasional</td>\n",
       "      <td>Moderate</td>\n",
       "      <td>Normal</td>\n",
       "      <td>125/80</td>\n",
       "      <td>88</td>\n",
       "      <td>84</td>\n",
       "    </tr>\n",
       "    <tr>\n",
       "      <th>3</th>\n",
       "      <td>31</td>\n",
       "      <td>Female</td>\n",
       "      <td>29.2</td>\n",
       "      <td>Yes</td>\n",
       "      <td>Regular</td>\n",
       "      <td>Low</td>\n",
       "      <td>High</td>\n",
       "      <td>130/85</td>\n",
       "      <td>105</td>\n",
       "      <td>63</td>\n",
       "    </tr>\n",
       "    <tr>\n",
       "      <th>4</th>\n",
       "      <td>42</td>\n",
       "      <td>Male</td>\n",
       "      <td>23.5</td>\n",
       "      <td>No</td>\n",
       "      <td>Never</td>\n",
       "      <td>Moderate</td>\n",
       "      <td>Normal</td>\n",
       "      <td>120/80</td>\n",
       "      <td>95</td>\n",
       "      <td>80</td>\n",
       "    </tr>\n",
       "  </tbody>\n",
       "</table>\n",
       "</div>"
      ],
      "text/plain": [
       "   age  gender   bmi smoker      region  exercise    alcohol cholesterol  \\\n",
       "0   49    Male  28.7    Yes     Regular      High  Very High      135/85   \n",
       "1   67  Female  26.8     No  Occasional  Moderate       High      140/90   \n",
       "2   41    Male  24.9     No  Occasional  Moderate     Normal      125/80   \n",
       "3   31  Female  29.2    Yes     Regular       Low       High      130/85   \n",
       "4   42    Male  23.5     No       Never  Moderate     Normal      120/80   \n",
       "\n",
       "   systolic_bp  diastolic_bp  \n",
       "0           92            71  \n",
       "1          110            60  \n",
       "2           88            84  \n",
       "3          105            63  \n",
       "4           95            80  "
      ]
     },
     "execution_count": 23,
     "metadata": {},
     "output_type": "execute_result"
    }
   ],
   "source": [
    "df.head()"
   ]
  },
  {
   "cell_type": "code",
   "execution_count": 43,
   "id": "793df1bd",
   "metadata": {},
   "outputs": [],
   "source": [
    "num_smokers = len(df[df['smoker'] == 'Yes'])"
   ]
  },
  {
   "cell_type": "code",
   "execution_count": 44,
   "id": "abce13dd",
   "metadata": {},
   "outputs": [
    {
     "name": "stdout",
     "output_type": "stream",
     "text": [
      "17\n"
     ]
    }
   ],
   "source": [
    "print(num_smokers)"
   ]
  },
  {
   "cell_type": "code",
   "execution_count": 31,
   "id": "a87fd4bf",
   "metadata": {},
   "outputs": [],
   "source": [
    "bmi = df.bmi"
   ]
  },
  {
   "cell_type": "code",
   "execution_count": 32,
   "id": "de7444ee",
   "metadata": {},
   "outputs": [],
   "source": [
    "cholesterol = df.cholesterol"
   ]
  },
  {
   "cell_type": "code",
   "execution_count": 33,
   "id": "7ab486a1",
   "metadata": {},
   "outputs": [
    {
     "data": {
      "text/plain": [
       "<matplotlib.collections.PathCollection at 0x2a3741a01c0>"
      ]
     },
     "execution_count": 33,
     "metadata": {},
     "output_type": "execute_result"
    },
    {
     "data": {
      "image/png": "[encoded data removed]",
      "text/plain": [
       "<Figure size 640x480 with 1 Axes>"
      ]
     },
     "metadata": {},
     "output_type": "display_data"
    }
   ],
   "source": [
    "plot.scatter(bmi, cholesterol)"
   ]
  },
  {
   "cell_type": "code",
   "execution_count": 34,
   "id": "413d0b22",
   "metadata": {},
   "outputs": [],
   "source": [
    "percentage = num_smokers / len(df.smoker) * 100"
   ]
  },
  {
   "cell_type": "code",
   "execution_count": 36,
   "id": "cfd26d66",
   "metadata": {},
   "outputs": [
    {
     "name": "stdout",
     "output_type": "stream",
     "text": [
      "48.57142857142857\n"
     ]
    }
   ],
   "source": [
    "print(percentage)"
   ]
  },
  {
   "cell_type": "code",
   "execution_count": 38,
   "id": "12e5a422",
   "metadata": {},
   "outputs": [
    {
     "data": {
      "text/plain": [
       "(array([3., 3., 5., 3., 4., 2., 6., 3., 3., 3.]),\n",
       " array([22.3 , 23.22, 24.14, 25.06, 25.98, 26.9 , 27.82, 28.74, 29.66,\n",
       "        30.58, 31.5 ]),\n",
       " <BarContainer object of 10 artists>)"
      ]
     },
     "execution_count": 38,
     "metadata": {},
     "output_type": "execute_result"
    },
    {
     "data": {
      "image/png": "[encoded data removed]",
      "text/plain": [
       "<Figure size 640x480 with 1 Axes>"
      ]
     },
     "metadata": {},
     "output_type": "display_data"
    }
   ],
   "source": [
    "plot.hist(df.bmi, rwidth=0.5)"
   ]
  },
  {
   "cell_type": "code",
   "execution_count": 47,
   "id": "709c07ff",
   "metadata": {},
   "outputs": [],
   "source": [
    "region_array = np.array(document.region)"
   ]
  },
  {
   "cell_type": "code",
   "execution_count": 50,
   "id": "84b8233a",
   "metadata": {},
   "outputs": [],
   "source": [
    "region, count = np.unique(region_array, return_counts=True)"
   ]
  },
  {
   "cell_type": "code",
   "execution_count": 51,
   "id": "f7f28075",
   "metadata": {},
   "outputs": [
    {
     "data": {
      "text/plain": [
       "array(['Occasional', 'Regular'], dtype=object)"
      ]
     },
     "execution_count": 51,
     "metadata": {},
     "output_type": "execute_result"
    }
   ],
   "source": [
    "region[count == count.max()]"
   ]
  },
  {
   "cell_type": "code",
   "execution_count": 52,
   "id": "02f73a3d",
   "metadata": {},
   "outputs": [
    {
     "name": "stdout",
     "output_type": "stream",
     "text": [
      "['Never' 'Occasional' 'Regular']\n"
     ]
    }
   ],
   "source": [
    "print(region)"
   ]
  },
  {
   "cell_type": "code",
   "execution_count": 57,
   "id": "1a703aa3",
   "metadata": {},
   "outputs": [
    {
     "name": "stdout",
     "output_type": "stream",
     "text": [
      "[ 7 14 14]\n"
     ]
    }
   ],
   "source": [
    "print(count)"
   ]
  },
  {
   "cell_type": "code",
   "execution_count": 59,
   "id": "5964fdaa",
   "metadata": {},
   "outputs": [],
   "source": [
    "sbp_over_140 = len(df[df['systolic_bp'] > 140])"
   ]
  },
  {
   "cell_type": "code",
   "execution_count": 60,
   "id": "70c74a14",
   "metadata": {},
   "outputs": [
    {
     "name": "stdout",
     "output_type": "stream",
     "text": [
      "0\n"
     ]
    }
   ],
   "source": [
    "print(sbp_over_140)"
   ]
  },
  {
   "cell_type": "code",
   "execution_count": null,
   "id": "0d110a17",
   "metadata": {},
   "outputs": [],
   "source": []
  }
 ],
 "metadata": {
  "kernelspec": {
   "display_name": "Python 3 (ipykernel)",
   "language": "python",
   "name": "python3"
  },
  "language_info": {
   "codemirror_mode": {
    "name": "ipython",
    "version": 3
   },
   "file_extension": ".py",
   "mimetype": "text/x-python",
   "name": "python",
   "nbconvert_exporter": "python",
   "pygments_lexer": "ipython3",
   "version": "3.10.9"
  }
 },
 "nbformat": 4,
 "nbformat_minor": 5
}
